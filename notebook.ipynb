{
 "cells": [
  {
   "cell_type": "code",
   "execution_count": 163,
   "outputs": [],
   "source": [
    "import pandas as pd\n",
    "import numpy as np\n",
    "from sklearn.model_selection import train_test_split\n",
    "from sklearn.naive_bayes import GaussianNB, MultinomialNB, ComplementNB"
   ],
   "metadata": {
    "collapsed": false,
    "pycharm": {
     "name": "#%%\n",
     "is_executing": false
    }
   }
  },
  {
   "cell_type": "code",
   "execution_count": 164,
   "outputs": [],
   "source": [
    "df = pd.read_csv('sample1.csv')"
   ],
   "metadata": {
    "collapsed": false,
    "pycharm": {
     "name": "#%%\n",
     "is_executing": false
    }
   }
  },
  {
   "cell_type": "code",
   "execution_count": 165,
   "outputs": [],
   "source": [
    "df.columns = ['age-range', 'gender', 'HAPPY', 'ANGRY', 'FEAR', 'NEUTRAL', 'SURPRISED', 'DISGUST']"
   ],
   "metadata": {
    "collapsed": false,
    "pycharm": {
     "name": "#%%\n",
     "is_executing": false
    }
   }
  },
  {
   "cell_type": "code",
   "execution_count": 166,
   "outputs": [
    {
     "data": {
      "text/plain": "          age-range  gender    emotion  \\\n0       18-30 years    Male      HAPPY   \n1       18-30 years  Female      HAPPY   \n2       18-30 years  Female      HAPPY   \n3       18-30 years  Female      HAPPY   \n4       18-30 years  Female      HAPPY   \n5    Above 30 years    Male      HAPPY   \n6    Above 30 years  Female      HAPPY   \n7       18-30 years    Male      HAPPY   \n8       18-30 years    Male      HAPPY   \n9       18-30 years    Male      HAPPY   \n10      18-30 years  Female      HAPPY   \n11      18-30 years  Female      HAPPY   \n12      18-30 years    Male      HAPPY   \n13      18-30 years  Female      HAPPY   \n14      18-30 years    Male      HAPPY   \n15      18-30 years  Female      HAPPY   \n16      18-30 years    Male      HAPPY   \n17      18-30 years  Female      HAPPY   \n18      18-30 years  Female      HAPPY   \n19      18-30 years  Female      HAPPY   \n20      18-30 years    Male      HAPPY   \n21      18-30 years    Male      ANGRY   \n22      18-30 years  Female      ANGRY   \n23      18-30 years  Female      ANGRY   \n24      18-30 years  Female      ANGRY   \n25      18-30 years  Female      ANGRY   \n26   Above 30 years    Male      ANGRY   \n27   Above 30 years  Female      ANGRY   \n28      18-30 years    Male      ANGRY   \n29      18-30 years    Male      ANGRY   \n..              ...     ...        ...   \n96      18-30 years    Male  SURPRISED   \n97      18-30 years  Female  SURPRISED   \n98      18-30 years    Male  SURPRISED   \n99      18-30 years  Female  SURPRISED   \n100     18-30 years    Male  SURPRISED   \n101     18-30 years  Female  SURPRISED   \n102     18-30 years  Female  SURPRISED   \n103     18-30 years  Female  SURPRISED   \n104     18-30 years    Male  SURPRISED   \n105     18-30 years    Male    DISGUST   \n106     18-30 years  Female    DISGUST   \n107     18-30 years  Female    DISGUST   \n108     18-30 years  Female    DISGUST   \n109     18-30 years  Female    DISGUST   \n110  Above 30 years    Male    DISGUST   \n111  Above 30 years  Female    DISGUST   \n112     18-30 years    Male    DISGUST   \n113     18-30 years    Male    DISGUST   \n114     18-30 years    Male    DISGUST   \n115     18-30 years  Female    DISGUST   \n116     18-30 years  Female    DISGUST   \n117     18-30 years    Male    DISGUST   \n118     18-30 years  Female    DISGUST   \n119     18-30 years    Male    DISGUST   \n120     18-30 years  Female    DISGUST   \n121     18-30 years    Male    DISGUST   \n122     18-30 years  Female    DISGUST   \n123     18-30 years  Female    DISGUST   \n124     18-30 years  Female    DISGUST   \n125     18-30 years    Male    DISGUST   \n\n                                              activity  \n0    Just turn on a song you love, Watch a Movie or...  \n1                                          Sing a song  \n2    Watch a Movie or fun video clip., Follow a rec...  \n3    Do things you usually enjoy, Make time for fri...  \n4    Sing a song, Do things you usually enjoy, Make...  \n5                                   Make time for kids  \n6                          Do things you usually enjoy  \n7                     Watch a Movie or fun video clip.  \n8    Just turn on a song you love, Sing a song, Wat...  \n9                  Sing a song, Make time for friends.  \n10                                Spend Time With pets  \n11   Just turn on a song you love, Sing a song, Do ...  \n12   Just turn on a song you love, Do things you us...  \n13                        Just turn on a song you love  \n14   Do things you usually enjoy, Make time for fri...  \n15   Sing a song, Watch a Movie or fun video clip.,...  \n16   Just turn on a song you love, Do things you us...  \n17   Do things you usually enjoy, Watch a Movie or ...  \n18   Just turn on a song you love, Sing a song, Mak...  \n19   Just turn on a song you love, Watch a Movie or...  \n20   Just turn on a song you love, Do things you us...  \n21   Sit in a quiet, comfortable space from your me...  \n22                 Deep breathing and relaxing imagery  \n23         Eat a favorite food, Watch a fun video clip  \n24                 Deep breathing and relaxing imagery  \n25   Sit in a quiet, comfortable space from your me...  \n26   go for a brisk walk, bike ride, run. Or do som...  \n27                 Deep breathing and relaxing imagery  \n28   Consider starting at the top of your head and ...  \n29   Sit in a quiet, comfortable space from your me...  \n..                                                 ...  \n96                   hugging other (anyone around you)  \n97                                            Option 5  \n98                   hugging other (anyone around you)  \n99                                         take photos  \n100                                                NaN  \n101                                                NaN  \n102                                                NaN  \n103                                        take photos  \n104                  hugging other (anyone around you)  \n105            Going through the social media platform  \n106  Making a call to the close friend and share th...  \n107              watching tv series/films continuously  \n108                      Thinking about past incidents  \n109  Making a call to the close friend and share th...  \n110                      Thinking about past incidents  \n111                      Thinking about past incidents  \n112            Going through the social media platform  \n113  Making a call to the close friend and share th...  \n114  Making a call to the close friend and share th...  \n115  Making a call to the close friend and share th...  \n116  Making a call to the close friend and share th...  \n117              watching tv series/films continuously  \n118              watching tv series/films continuously  \n119              watching tv series/films continuously  \n120  Making a call to the close friend and share th...  \n121                                                NaN  \n122            Going through the social media platform  \n123                                                NaN  \n124  Making a call to the close friend and share th...  \n125  Making a call to the close friend and share th...  \n\n[126 rows x 4 columns]",
      "text/html": "<div>\n<style scoped>\n    .dataframe tbody tr th:only-of-type {\n        vertical-align: middle;\n    }\n\n    .dataframe tbody tr th {\n        vertical-align: top;\n    }\n\n    .dataframe thead th {\n        text-align: right;\n    }\n</style>\n<table border=\"1\" class=\"dataframe\">\n  <thead>\n    <tr style=\"text-align: right;\">\n      <th></th>\n      <th>age-range</th>\n      <th>gender</th>\n      <th>emotion</th>\n      <th>activity</th>\n    </tr>\n  </thead>\n  <tbody>\n    <tr>\n      <th>0</th>\n      <td>18-30 years</td>\n      <td>Male</td>\n      <td>HAPPY</td>\n      <td>Just turn on a song you love, Watch a Movie or...</td>\n    </tr>\n    <tr>\n      <th>1</th>\n      <td>18-30 years</td>\n      <td>Female</td>\n      <td>HAPPY</td>\n      <td>Sing a song</td>\n    </tr>\n    <tr>\n      <th>2</th>\n      <td>18-30 years</td>\n      <td>Female</td>\n      <td>HAPPY</td>\n      <td>Watch a Movie or fun video clip., Follow a rec...</td>\n    </tr>\n    <tr>\n      <th>3</th>\n      <td>18-30 years</td>\n      <td>Female</td>\n      <td>HAPPY</td>\n      <td>Do things you usually enjoy, Make time for fri...</td>\n    </tr>\n    <tr>\n      <th>4</th>\n      <td>18-30 years</td>\n      <td>Female</td>\n      <td>HAPPY</td>\n      <td>Sing a song, Do things you usually enjoy, Make...</td>\n    </tr>\n    <tr>\n      <th>5</th>\n      <td>Above 30 years</td>\n      <td>Male</td>\n      <td>HAPPY</td>\n      <td>Make time for kids</td>\n    </tr>\n    <tr>\n      <th>6</th>\n      <td>Above 30 years</td>\n      <td>Female</td>\n      <td>HAPPY</td>\n      <td>Do things you usually enjoy</td>\n    </tr>\n    <tr>\n      <th>7</th>\n      <td>18-30 years</td>\n      <td>Male</td>\n      <td>HAPPY</td>\n      <td>Watch a Movie or fun video clip.</td>\n    </tr>\n    <tr>\n      <th>8</th>\n      <td>18-30 years</td>\n      <td>Male</td>\n      <td>HAPPY</td>\n      <td>Just turn on a song you love, Sing a song, Wat...</td>\n    </tr>\n    <tr>\n      <th>9</th>\n      <td>18-30 years</td>\n      <td>Male</td>\n      <td>HAPPY</td>\n      <td>Sing a song, Make time for friends.</td>\n    </tr>\n    <tr>\n      <th>10</th>\n      <td>18-30 years</td>\n      <td>Female</td>\n      <td>HAPPY</td>\n      <td>Spend Time With pets</td>\n    </tr>\n    <tr>\n      <th>11</th>\n      <td>18-30 years</td>\n      <td>Female</td>\n      <td>HAPPY</td>\n      <td>Just turn on a song you love, Sing a song, Do ...</td>\n    </tr>\n    <tr>\n      <th>12</th>\n      <td>18-30 years</td>\n      <td>Male</td>\n      <td>HAPPY</td>\n      <td>Just turn on a song you love, Do things you us...</td>\n    </tr>\n    <tr>\n      <th>13</th>\n      <td>18-30 years</td>\n      <td>Female</td>\n      <td>HAPPY</td>\n      <td>Just turn on a song you love</td>\n    </tr>\n    <tr>\n      <th>14</th>\n      <td>18-30 years</td>\n      <td>Male</td>\n      <td>HAPPY</td>\n      <td>Do things you usually enjoy, Make time for fri...</td>\n    </tr>\n    <tr>\n      <th>15</th>\n      <td>18-30 years</td>\n      <td>Female</td>\n      <td>HAPPY</td>\n      <td>Sing a song, Watch a Movie or fun video clip.,...</td>\n    </tr>\n    <tr>\n      <th>16</th>\n      <td>18-30 years</td>\n      <td>Male</td>\n      <td>HAPPY</td>\n      <td>Just turn on a song you love, Do things you us...</td>\n    </tr>\n    <tr>\n      <th>17</th>\n      <td>18-30 years</td>\n      <td>Female</td>\n      <td>HAPPY</td>\n      <td>Do things you usually enjoy, Watch a Movie or ...</td>\n    </tr>\n    <tr>\n      <th>18</th>\n      <td>18-30 years</td>\n      <td>Female</td>\n      <td>HAPPY</td>\n      <td>Just turn on a song you love, Sing a song, Mak...</td>\n    </tr>\n    <tr>\n      <th>19</th>\n      <td>18-30 years</td>\n      <td>Female</td>\n      <td>HAPPY</td>\n      <td>Just turn on a song you love, Watch a Movie or...</td>\n    </tr>\n    <tr>\n      <th>20</th>\n      <td>18-30 years</td>\n      <td>Male</td>\n      <td>HAPPY</td>\n      <td>Just turn on a song you love, Do things you us...</td>\n    </tr>\n    <tr>\n      <th>21</th>\n      <td>18-30 years</td>\n      <td>Male</td>\n      <td>ANGRY</td>\n      <td>Sit in a quiet, comfortable space from your me...</td>\n    </tr>\n    <tr>\n      <th>22</th>\n      <td>18-30 years</td>\n      <td>Female</td>\n      <td>ANGRY</td>\n      <td>Deep breathing and relaxing imagery</td>\n    </tr>\n    <tr>\n      <th>23</th>\n      <td>18-30 years</td>\n      <td>Female</td>\n      <td>ANGRY</td>\n      <td>Eat a favorite food, Watch a fun video clip</td>\n    </tr>\n    <tr>\n      <th>24</th>\n      <td>18-30 years</td>\n      <td>Female</td>\n      <td>ANGRY</td>\n      <td>Deep breathing and relaxing imagery</td>\n    </tr>\n    <tr>\n      <th>25</th>\n      <td>18-30 years</td>\n      <td>Female</td>\n      <td>ANGRY</td>\n      <td>Sit in a quiet, comfortable space from your me...</td>\n    </tr>\n    <tr>\n      <th>26</th>\n      <td>Above 30 years</td>\n      <td>Male</td>\n      <td>ANGRY</td>\n      <td>go for a brisk walk, bike ride, run. Or do som...</td>\n    </tr>\n    <tr>\n      <th>27</th>\n      <td>Above 30 years</td>\n      <td>Female</td>\n      <td>ANGRY</td>\n      <td>Deep breathing and relaxing imagery</td>\n    </tr>\n    <tr>\n      <th>28</th>\n      <td>18-30 years</td>\n      <td>Male</td>\n      <td>ANGRY</td>\n      <td>Consider starting at the top of your head and ...</td>\n    </tr>\n    <tr>\n      <th>29</th>\n      <td>18-30 years</td>\n      <td>Male</td>\n      <td>ANGRY</td>\n      <td>Sit in a quiet, comfortable space from your me...</td>\n    </tr>\n    <tr>\n      <th>...</th>\n      <td>...</td>\n      <td>...</td>\n      <td>...</td>\n      <td>...</td>\n    </tr>\n    <tr>\n      <th>96</th>\n      <td>18-30 years</td>\n      <td>Male</td>\n      <td>SURPRISED</td>\n      <td>hugging other (anyone around you)</td>\n    </tr>\n    <tr>\n      <th>97</th>\n      <td>18-30 years</td>\n      <td>Female</td>\n      <td>SURPRISED</td>\n      <td>Option 5</td>\n    </tr>\n    <tr>\n      <th>98</th>\n      <td>18-30 years</td>\n      <td>Male</td>\n      <td>SURPRISED</td>\n      <td>hugging other (anyone around you)</td>\n    </tr>\n    <tr>\n      <th>99</th>\n      <td>18-30 years</td>\n      <td>Female</td>\n      <td>SURPRISED</td>\n      <td>take photos</td>\n    </tr>\n    <tr>\n      <th>100</th>\n      <td>18-30 years</td>\n      <td>Male</td>\n      <td>SURPRISED</td>\n      <td>NaN</td>\n    </tr>\n    <tr>\n      <th>101</th>\n      <td>18-30 years</td>\n      <td>Female</td>\n      <td>SURPRISED</td>\n      <td>NaN</td>\n    </tr>\n    <tr>\n      <th>102</th>\n      <td>18-30 years</td>\n      <td>Female</td>\n      <td>SURPRISED</td>\n      <td>NaN</td>\n    </tr>\n    <tr>\n      <th>103</th>\n      <td>18-30 years</td>\n      <td>Female</td>\n      <td>SURPRISED</td>\n      <td>take photos</td>\n    </tr>\n    <tr>\n      <th>104</th>\n      <td>18-30 years</td>\n      <td>Male</td>\n      <td>SURPRISED</td>\n      <td>hugging other (anyone around you)</td>\n    </tr>\n    <tr>\n      <th>105</th>\n      <td>18-30 years</td>\n      <td>Male</td>\n      <td>DISGUST</td>\n      <td>Going through the social media platform</td>\n    </tr>\n    <tr>\n      <th>106</th>\n      <td>18-30 years</td>\n      <td>Female</td>\n      <td>DISGUST</td>\n      <td>Making a call to the close friend and share th...</td>\n    </tr>\n    <tr>\n      <th>107</th>\n      <td>18-30 years</td>\n      <td>Female</td>\n      <td>DISGUST</td>\n      <td>watching tv series/films continuously</td>\n    </tr>\n    <tr>\n      <th>108</th>\n      <td>18-30 years</td>\n      <td>Female</td>\n      <td>DISGUST</td>\n      <td>Thinking about past incidents</td>\n    </tr>\n    <tr>\n      <th>109</th>\n      <td>18-30 years</td>\n      <td>Female</td>\n      <td>DISGUST</td>\n      <td>Making a call to the close friend and share th...</td>\n    </tr>\n    <tr>\n      <th>110</th>\n      <td>Above 30 years</td>\n      <td>Male</td>\n      <td>DISGUST</td>\n      <td>Thinking about past incidents</td>\n    </tr>\n    <tr>\n      <th>111</th>\n      <td>Above 30 years</td>\n      <td>Female</td>\n      <td>DISGUST</td>\n      <td>Thinking about past incidents</td>\n    </tr>\n    <tr>\n      <th>112</th>\n      <td>18-30 years</td>\n      <td>Male</td>\n      <td>DISGUST</td>\n      <td>Going through the social media platform</td>\n    </tr>\n    <tr>\n      <th>113</th>\n      <td>18-30 years</td>\n      <td>Male</td>\n      <td>DISGUST</td>\n      <td>Making a call to the close friend and share th...</td>\n    </tr>\n    <tr>\n      <th>114</th>\n      <td>18-30 years</td>\n      <td>Male</td>\n      <td>DISGUST</td>\n      <td>Making a call to the close friend and share th...</td>\n    </tr>\n    <tr>\n      <th>115</th>\n      <td>18-30 years</td>\n      <td>Female</td>\n      <td>DISGUST</td>\n      <td>Making a call to the close friend and share th...</td>\n    </tr>\n    <tr>\n      <th>116</th>\n      <td>18-30 years</td>\n      <td>Female</td>\n      <td>DISGUST</td>\n      <td>Making a call to the close friend and share th...</td>\n    </tr>\n    <tr>\n      <th>117</th>\n      <td>18-30 years</td>\n      <td>Male</td>\n      <td>DISGUST</td>\n      <td>watching tv series/films continuously</td>\n    </tr>\n    <tr>\n      <th>118</th>\n      <td>18-30 years</td>\n      <td>Female</td>\n      <td>DISGUST</td>\n      <td>watching tv series/films continuously</td>\n    </tr>\n    <tr>\n      <th>119</th>\n      <td>18-30 years</td>\n      <td>Male</td>\n      <td>DISGUST</td>\n      <td>watching tv series/films continuously</td>\n    </tr>\n    <tr>\n      <th>120</th>\n      <td>18-30 years</td>\n      <td>Female</td>\n      <td>DISGUST</td>\n      <td>Making a call to the close friend and share th...</td>\n    </tr>\n    <tr>\n      <th>121</th>\n      <td>18-30 years</td>\n      <td>Male</td>\n      <td>DISGUST</td>\n      <td>NaN</td>\n    </tr>\n    <tr>\n      <th>122</th>\n      <td>18-30 years</td>\n      <td>Female</td>\n      <td>DISGUST</td>\n      <td>Going through the social media platform</td>\n    </tr>\n    <tr>\n      <th>123</th>\n      <td>18-30 years</td>\n      <td>Female</td>\n      <td>DISGUST</td>\n      <td>NaN</td>\n    </tr>\n    <tr>\n      <th>124</th>\n      <td>18-30 years</td>\n      <td>Female</td>\n      <td>DISGUST</td>\n      <td>Making a call to the close friend and share th...</td>\n    </tr>\n    <tr>\n      <th>125</th>\n      <td>18-30 years</td>\n      <td>Male</td>\n      <td>DISGUST</td>\n      <td>Making a call to the close friend and share th...</td>\n    </tr>\n  </tbody>\n</table>\n<p>126 rows × 4 columns</p>\n</div>"
     },
     "metadata": {},
     "output_type": "execute_result",
     "execution_count": 166
    }
   ],
   "source": [
    "df1 = pd.melt(df, \n",
    "              id_vars=['age-range', 'gender'], \n",
    "              value_vars=['HAPPY', 'ANGRY', 'FEAR', 'NEUTRAL', 'SURPRISED', 'DISGUST'], \n",
    "              var_name='emotion', \n",
    "              value_name='activity')\n",
    "df1"
   ],
   "metadata": {
    "collapsed": false,
    "pycharm": {
     "name": "#%%\n",
     "is_executing": false
    }
   }
  },
  {
   "cell_type": "code",
   "execution_count": 167,
   "outputs": [
    {
     "data": {
      "text/plain": "          age-range  gender emotion  \\\ncount           117     117     117   \nunique            2       2       6   \ntop     18-30 years  Female   HAPPY   \nfreq            105      67      21   \n\n                                                 activity  \ncount                                                 117  \nunique                                                 62  \ntop     Making a call to the close friend and share th...  \nfreq                                                    9  ",
      "text/html": "<div>\n<style scoped>\n    .dataframe tbody tr th:only-of-type {\n        vertical-align: middle;\n    }\n\n    .dataframe tbody tr th {\n        vertical-align: top;\n    }\n\n    .dataframe thead th {\n        text-align: right;\n    }\n</style>\n<table border=\"1\" class=\"dataframe\">\n  <thead>\n    <tr style=\"text-align: right;\">\n      <th></th>\n      <th>age-range</th>\n      <th>gender</th>\n      <th>emotion</th>\n      <th>activity</th>\n    </tr>\n  </thead>\n  <tbody>\n    <tr>\n      <th>count</th>\n      <td>117</td>\n      <td>117</td>\n      <td>117</td>\n      <td>117</td>\n    </tr>\n    <tr>\n      <th>unique</th>\n      <td>2</td>\n      <td>2</td>\n      <td>6</td>\n      <td>62</td>\n    </tr>\n    <tr>\n      <th>top</th>\n      <td>18-30 years</td>\n      <td>Female</td>\n      <td>HAPPY</td>\n      <td>Making a call to the close friend and share th...</td>\n    </tr>\n    <tr>\n      <th>freq</th>\n      <td>105</td>\n      <td>67</td>\n      <td>21</td>\n      <td>9</td>\n    </tr>\n  </tbody>\n</table>\n</div>"
     },
     "metadata": {},
     "output_type": "execute_result",
     "execution_count": 167
    }
   ],
   "source": [
    "df1.head()\n",
    "df2 = df1.dropna()\n",
    "df2.describe()"
   ],
   "metadata": {
    "collapsed": false,
    "pycharm": {
     "name": "#%%\n",
     "is_executing": false
    }
   }
  },
  {
   "cell_type": "code",
   "execution_count": 168,
   "outputs": [],
   "source": [
    "df3 = df2.replace(\n",
    "    ['18-30 years', 'Above 30 years', 'Male', 'Female', 'HAPPY', 'ANGRY', 'FEAR', 'NEUTRAL', 'SURPRISED', 'DISGUST'], \n",
    "    [0, 1, 0, 1, 0, 1, 2, 3, 4, 5])"
   ],
   "metadata": {
    "collapsed": false,
    "pycharm": {
     "name": "#%%\n",
     "is_executing": false
    }
   }
  },
  {
   "cell_type": "code",
   "execution_count": 169,
   "outputs": [],
   "source": [
    "activities = df3['activity'].unique()"
   ],
   "metadata": {
    "collapsed": false,
    "pycharm": {
     "name": "#%%\n",
     "is_executing": false
    }
   }
  },
  {
   "cell_type": "code",
   "execution_count": 170,
   "outputs": [
    {
     "data": {
      "text/plain": "62"
     },
     "metadata": {},
     "output_type": "execute_result",
     "execution_count": 170
    }
   ],
   "source": [
    "activities.size"
   ],
   "metadata": {
    "collapsed": false,
    "pycharm": {
     "name": "#%%\n",
     "is_executing": false
    }
   }
  },
  {
   "cell_type": "code",
   "execution_count": 171,
   "outputs": [],
   "source": [
    "df4 = df3.sample(frac=1).reset_index(drop=True)"
   ],
   "metadata": {
    "collapsed": false,
    "pycharm": {
     "name": "#%%\n",
     "is_executing": false
    }
   }
  },
  {
   "cell_type": "code",
   "execution_count": 172,
   "outputs": [],
   "source": [
    "_x = df4.drop(labels=['activity'], axis=1)\n",
    "X = np.array(_x)\n",
    "\n",
    "_y = df4['activity']\n",
    "y = np.array(_y)"
   ],
   "metadata": {
    "collapsed": false,
    "pycharm": {
     "name": "#%%\n",
     "is_executing": false
    }
   }
  },
  {
   "cell_type": "code",
   "execution_count": 173,
   "outputs": [],
   "source": [
    "dict1 = {}\n",
    "dict2 = {}\n",
    "__i = 0\n",
    "for _i in range(len(X)):\n",
    "    i = X[_i]\n",
    "    x = '%s,%s,%s'%(i[0],i[1],i[2])\n",
    "\n",
    "    y1 = y[_i]\n",
    "    if x in dict1:\n",
    "        dict1[x] = np.append(dict1[x], y1)\n",
    "    else:\n",
    "        dict1[x] = np.array([y1])\n",
    "        __i = __i + 1\n",
    "        dict2[x] = __i"
   ],
   "metadata": {
    "collapsed": false,
    "pycharm": {
     "name": "#%%\n",
     "is_executing": false
    }
   }
  },
  {
   "cell_type": "code",
   "execution_count": 174,
   "outputs": [],
   "source": [
    "def get_group(_dict1, _dict2, di):\n",
    "    for d in _dict1:\n",
    "        if di in _dict1[d]:\n",
    "            return _dict2[d]\n",
    "    return -1"
   ],
   "metadata": {
    "collapsed": false,
    "pycharm": {
     "name": "#%%\n",
     "is_executing": false
    }
   }
  },
  {
   "cell_type": "code",
   "execution_count": 175,
   "outputs": [
    {
     "data": {
      "text/plain": "3"
     },
     "metadata": {},
     "output_type": "execute_result",
     "execution_count": 175
    }
   ],
   "source": [
    "get_group(dict1, dict2, y[2])"
   ],
   "metadata": {
    "collapsed": false,
    "pycharm": {
     "name": "#%%\n",
     "is_executing": false
    }
   }
  },
  {
   "cell_type": "code",
   "execution_count": 176,
   "outputs": [
    {
     "data": {
      "text/plain": "array([ 1.,  2.,  3.,  4.,  5.,  3.,  7.,  1.,  6.,  5.,  8.,  9.,  3.,\n       11.,  1.,  1.,  5., 11.,  4.,  3.,  7.,  8.,  8., 15.,  8., 11.,\n       11.,  8., 11.,  8.,  4.,  6.,  5.,  8.,  5.,  1., 11.,  3., 11.,\n        6.,  3.,  3.,  7.,  9., 11.,  3., 17.,  2.,  3.,  7., 11.,  1.,\n       15., 12.,  9.,  9.,  6.,  1.,  1.,  6., 12., 18.,  2.,  5.,  8.,\n        7.,  3.,  5.,  7.,  8.,  8.,  7., 19., 15.,  9.,  8., 11., 11.,\n        9.,  1., 12.,  7., 11.,  7.,  9.,  1.,  9.,  7.,  3.,  1.,  5.,\n        2.,  8.,  8.,  9.,  8.,  9., 12., 15., 12.,  6., 15.,  3.,  8.,\n       11.,  1.,  6.,  7.,  1.,  8.,  9.,  3., 15.,  1.,  2.,  3.,  9.])"
     },
     "metadata": {},
     "output_type": "execute_result",
     "execution_count": 176
    }
   ],
   "source": [
    "__y = np.zeros(len(y))\n",
    "for yi in range(len(y)):\n",
    "    __y[yi] = get_group(dict1, dict2, y[yi])\n",
    "__y"
   ],
   "metadata": {
    "collapsed": false,
    "pycharm": {
     "name": "#%%\n",
     "is_executing": false
    }
   }
  },
  {
   "cell_type": "code",
   "execution_count": 177,
   "outputs": [
    {
     "name": "stdout",
     "text": [
      "0,1,2 10\n1,0,4 1\n0,1,1 11\n1,0,5 1\n0,0,0 8\n0,0,1 8\n0,1,0 11\n0,1,5 10\n0,0,3 7\n1,0,1 1\n0,0,4 7\n0,0,2 7\n1,1,5 1\n0,0,5 7\n0,1,3 10\n0,1,4 9\n1,1,0 1\n1,0,0 1\n1,1,3 1\n1,1,2 1\n1,0,3 1\n1,0,2 1\n1,1,1 1\n1,1,4 1\n"
     ],
     "output_type": "stream"
    }
   ],
   "source": [
    "for x in dict1:\n",
    "    print(x, len(dict1[x]))"
   ],
   "metadata": {
    "collapsed": false,
    "pycharm": {
     "name": "#%%\n",
     "is_executing": false
    }
   }
  },
  {
   "cell_type": "code",
   "execution_count": 178,
   "outputs": [
    {
     "data": {
      "text/plain": "24"
     },
     "metadata": {},
     "output_type": "execute_result",
     "execution_count": 178
    }
   ],
   "source": [
    "len(dict1)\n",
    "# __y.size"
   ],
   "metadata": {
    "collapsed": false,
    "pycharm": {
     "name": "#%%0\n",
     "is_executing": false
    }
   }
  },
  {
   "cell_type": "code",
   "execution_count": 179,
   "outputs": [
    {
     "data": {
      "text/plain": "dict_keys(['0,1,2', '1,0,4', '0,1,1', '1,0,5', '0,0,0', '0,0,1', '0,1,0', '0,1,5', '0,0,3', '1,0,1', '0,0,4', '0,0,2', '1,1,5', '0,0,5', '0,1,3', '0,1,4', '1,1,0', '1,0,0', '1,1,3', '1,1,2', '1,0,3', '1,0,2', '1,1,1', '1,1,4'])"
     },
     "metadata": {},
     "output_type": "execute_result",
     "execution_count": 179
    }
   ],
   "source": [
    "X_train, X_test, y_train, y_test = train_test_split(X, __y, test_size=0.27, random_state=5)\n",
    "dict1.keys()"
   ],
   "metadata": {
    "collapsed": false,
    "pycharm": {
     "name": "#%%\n",
     "is_executing": false
    }
   }
  },
  {
   "cell_type": "code",
   "execution_count": 180,
   "outputs": [],
   "source": [
    "gnb = GaussianNB()\n",
    "# mnb = MultinomialNB()\n",
    "# cnb = ComplementNB()\n",
    "\n",
    "y_pred_gnb = gnb.fit(X_train, y_train).predict(X_test)\n",
    "# y_pred_mnb = mnb.fit(X_train, y_train).predict(X_test)\n",
    "# y_pred_cnb = cnb.fit(X_train, y_train).predict(X_test)"
   ],
   "metadata": {
    "collapsed": false,
    "pycharm": {
     "name": "#%%\n",
     "is_executing": false
    }
   }
  },
  {
   "cell_type": "code",
   "execution_count": 181,
   "outputs": [
    {
     "data": {
      "text/plain": "array([False,  True, False, False, False, False,  True, False, False,\n        True,  True, False, False, False, False, False, False, False,\n       False, False, False, False, False, False, False,  True, False,\n       False, False, False, False, False])"
     },
     "metadata": {},
     "output_type": "execute_result",
     "execution_count": 181
    }
   ],
   "source": [
    "(y_test != y_pred_gnb)"
   ],
   "metadata": {
    "collapsed": false,
    "pycharm": {
     "name": "#%%\n",
     "is_executing": false
    }
   }
  },
  {
   "cell_type": "code",
   "execution_count": 182,
   "outputs": [
    {
     "data": {
      "text/plain": "(32, 5)"
     },
     "metadata": {},
     "output_type": "execute_result",
     "execution_count": 182
    }
   ],
   "source": [
    "(X_test.shape[0], (y_test != y_pred_gnb).sum())\n"
   ],
   "metadata": {
    "collapsed": false,
    "pycharm": {
     "name": "#%%\n",
     "is_executing": false
    }
   }
  }
 ],
 "metadata": {
  "language_info": {
   "codemirror_mode": {
    "name": "ipython",
    "version": 2
   },
   "file_extension": ".py",
   "mimetype": "text/x-python",
   "name": "python",
   "nbconvert_exporter": "python",
   "pygments_lexer": "ipython2",
   "version": "2.7.6"
  },
  "kernelspec": {
   "name": "python3",
   "language": "python",
   "display_name": "Python 3"
  },
  "pycharm": {
   "stem_cell": {
    "cell_type": "raw",
    "source": [],
    "metadata": {
     "collapsed": false
    }
   }
  }
 },
 "nbformat": 4,
 "nbformat_minor": 0
}